{
  "nbformat": 4,
  "nbformat_minor": 0,
  "metadata": {
    "colab": {
      "name": "day-8.ipynb",
      "provenance": [],
      "collapsed_sections": []
    },
    "kernelspec": {
      "name": "python3",
      "display_name": "Python 3"
    }
  },
  "cells": [
    {
      "cell_type": "code",
      "metadata": {
        "id": "0KNdjxElTg2B",
        "colab_type": "code",
        "colab": {}
      },
      "source": [
        "import numpy as np\n",
        "import cv2\n",
        "from google.colab.patches import cv2_imshow\n",
        "from matplotlib import pyplot as plt\n",
        "import plotly\n",
        "from skimage import io\n",
        "from skimage import morphology as morp\n",
        "import plotly.express as px\n",
        "import plotly.graph_objects as go\n",
        "import urllib"
      ],
      "execution_count": 0,
      "outputs": []
    },
    {
      "cell_type": "code",
      "metadata": {
        "id": "NXpBq0hgTzm0",
        "colab_type": "code",
        "colab": {}
      },
      "source": [
        "def plot_clusters(points, cluster_labels, show_annotation=True):\n",
        "  for c in np.unique(cluster_labels):\n",
        "    plt.scatter(points[cluster_labels == c,0],points[cluster_labels == c,1])\n",
        "  if show_annotation:\n",
        "    for i in range(len(points[:,0])):\n",
        "      \n",
        "  plt.show()"
      ],
      "execution_count": 0,
      "outputs": []
    },
    {
      "cell_type": "code",
      "metadata": {
        "id": "ja53VQJETm22",
        "colab_type": "code",
        "outputId": "69b3064b-11d9-452b-b176-1acd439b63e9",
        "colab": {
          "base_uri": "https://localhost:8080/",
          "height": 304
        }
      },
      "source": [
        "np.random.seed(2)\n",
        "points = np.vstack((np.random.normal(0,0.5,size=(4,2)),np.random.normal(3,0.5,size=(4,2))))\n",
        "points = np.vstack((points, np.array([[1.5,1.5]])))\n",
        "points = np.vstack((points, np.array([[1.25,1.25]])))\n",
        "cluster = np.random.randint(2, size=(10)).astype('uint8')\n",
        "print(points[:,0].shape[0])\n",
        "print(points[:,1].shape[0])\n",
        "plot_clusters(points,cluster)\n",
        " "
      ],
      "execution_count": 0,
      "outputs": [
        {
          "output_type": "stream",
          "text": [
            "10\n",
            "10\n"
          ],
          "name": "stdout"
        },
        {
          "output_type": "display_data",
          "data": {
            "image/png": "[encoded data removed]",
            "text/plain": [
              "<Figure size 432x288 with 1 Axes>"
            ]
          },
          "metadata": {
            "tags": [],
            "needs_background": "light"
          }
        }
      ]
    },
    {
      "cell_type": "code",
      "metadata": {
        "id": "J4zWj2CGcB7o",
        "colab_type": "code",
        "colab": {}
      },
      "source": [
        "def heatmap(grid, xlabels, ylabels, xrot=90):   \n",
        "    cmap = cm.get_cmap(\"viridis\")\n",
        "    plt.imshow(grid, cmap=cmap)\n",
        "    plt.xticks(np.arange(0,grid.shape[1],step=1), xlabels, rotation=xrot)\n",
        "    plt.yticks(np.arange(0, grid.shape[0], step=1), ylabels)"
      ],
      "execution_count": 0,
      "outputs": []
    },
    {
      "cell_type": "code",
      "metadata": {
        "id": "qHbYnP-VUTob",
        "colab_type": "code",
        "colab": {}
      },
      "source": [
        "def init(pts,k):\n",
        "  ret = np.zeros((k,2))\n",
        "  i = np.random.choice(np.array([i for i in range(len(pts[:,0]))]),k)\n",
        "  for k,j in enumerate(i):\n",
        "    ret[k] = pts[j]\n",
        "  return ret"
      ],
      "execution_count": 0,
      "outputs": []
    },
    {
      "cell_type": "code",
      "metadata": {
        "id": "w5GuiOs0kaco",
        "colab_type": "code",
        "outputId": "7710642d-b308-4f8e-af79-1a9ef931585c",
        "colab": {
          "base_uri": "https://localhost:8080/",
          "height": 114
        }
      },
      "source": [
        "np.random.seed(2)\n",
        "K = 5\n",
        "X = []\n",
        "for i in range(5):\n",
        "    X.append(np.random.normal(2**i,(i+1)/5, size=(20,2)))\n",
        "points = np.vstack(X)\n",
        "centers = init(points,K)\n",
        "print(centers)"
      ],
      "execution_count": 158,
      "outputs": [
        {
          "output_type": "stream",
          "text": [
            "[[16.18040981 16.55316427]\n",
            " [ 1.05131409  0.80224419]\n",
            " [ 1.25276374  2.69247387]\n",
            " [ 1.25276374  2.69247387]\n",
            " [ 2.17339853  2.51135169]]\n"
          ],
          "name": "stdout"
        }
      ]
    },
    {
      "cell_type": "code",
      "metadata": {
        "id": "i3-vc1v-kina",
        "colab_type": "code",
        "colab": {}
      },
      "source": [
        "from sklearn.metrics.pairwise import euclidean_distances\n",
        "def newcenter(points,centers):\n",
        "  group = np.zeros(len(points),dtype='uint8')\n",
        "  newc = np.zeros(centers.shape)\n",
        "  dist =  euclidean_distances(points,centers)\n",
        "  for i in range(len(dist)):\n",
        "      group[i] = np.argmin(dist[i])\n",
        "  for i,v in enumerate(np.unique(group)):\n",
        "    x = points[group == v]\n",
        "    newc[i] = np.mean(x,axis=0)\n",
        "    print(newc[i])\n",
        "\n",
        "  dist =  euclidean_distances(points,newc)\n",
        "  for i in range(len(dist)):\n",
        "      group[i] = np.argmin(dist[i])\n",
        "\n",
        "  return group,newc"
      ],
      "execution_count": 0,
      "outputs": []
    },
    {
      "cell_type": "code",
      "metadata": {
        "id": "lOYeCp4FpWkJ",
        "colab_type": "code",
        "outputId": "0f0e02e9-c505-4b07-e21a-7ff687f7c4e7",
        "colab": {
          "base_uri": "https://localhost:8080/",
          "height": 420
        }
      },
      "source": [
        "prev = None\n",
        "while True:\n",
        "  group,newc = newcenter(points,centers)\n",
        "  if (newc == prev).all():\n",
        "    break\n",
        "  prev = newc\n",
        "plot_clusters(points,group)"
      ],
      "execution_count": 160,
      "outputs": [
        {
          "output_type": "stream",
          "text": [
            "[15.95929128 15.86160636]\n",
            "[1.05286926 1.04666466]\n",
            "[1.23333979 2.32704746]\n",
            "[5.03199318 4.95593967]\n",
            "[15.95929128 15.86160636]\n",
            "[1.05286926 1.04666466]\n",
            "[1.23333979 2.32704746]\n",
            "[5.03199318 4.95593967]\n"
          ],
          "name": "stdout"
        },
        {
          "output_type": "display_data",
          "data": {
            "image/png": "[encoded data removed]",
            "text/plain": [
              "<Figure size 432x288 with 1 Axes>"
            ]
          },
          "metadata": {
            "tags": [],
            "needs_background": "light"
          }
        }
      ]
    },
    {
      "cell_type": "code",
      "metadata": {
        "id": "nP2YqduMpb0m",
        "colab_type": "code",
        "colab": {
          "base_uri": "https://localhost:8080/",
          "height": 342
        },
        "outputId": "05bf55c9-8605-4e85-bfd8-c9a0cf70bf54"
      },
      "source": [
        "from sklearn.datasets import make_circles\n",
        " \n",
        "points, _ = make_circles(100, noise=0.06, factor=0.5)\n",
        "centers = init(points,2)\n",
        "prev = None\n",
        "while True:\n",
        "  group,newc = newcenter(points,centers)\n",
        "  if (newc == prev).all():\n",
        "    break\n",
        "  prev = newc\n",
        "plot_clusters(points,group)\n"
      ],
      "execution_count": 164,
      "outputs": [
        {
          "output_type": "stream",
          "text": [
            "[-0.1860322  -0.58092684]\n",
            "[0.12146485 0.33490151]\n",
            "[-0.1860322  -0.58092684]\n",
            "[0.12146485 0.33490151]\n"
          ],
          "name": "stdout"
        },
        {
          "output_type": "display_data",
          "data": {
            "image/png": "[encoded data removed]",
            "text/plain": [
              "<Figure size 432x288 with 1 Axes>"
            ]
          },
          "metadata": {
            "tags": [],
            "needs_background": "light"
          }
        }
      ]
    },
    {
      "cell_type": "code",
      "metadata": {
        "id": "Fw5evj481I2_",
        "colab_type": "code",
        "colab": {}
      },
      "source": [
        ""
      ],
      "execution_count": 0,
      "outputs": []
    }
  ]
}