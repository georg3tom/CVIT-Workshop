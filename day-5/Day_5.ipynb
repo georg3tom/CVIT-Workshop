{
  "nbformat": 4,
  "nbformat_minor": 0,
  "metadata": {
    "colab": {
      "name": "Day-5.ipynb",
      "provenance": []
    },
    "kernelspec": {
      "name": "python3",
      "display_name": "Python 3"
    }
  },
  "cells": [
    {
      "cell_type": "code",
      "metadata": {
        "id": "dKcn3Yp51N4H",
        "colab_type": "code",
        "colab": {}
      },
      "source": [
        ""
      ],
      "execution_count": 0,
      "outputs": []
    },
    {
      "cell_type": "markdown",
      "metadata": {
        "id": "VaAXhlYb1PWV",
        "colab_type": "text"
      },
      "source": [
        "# Programming Exercise: Robot Localization"
      ]
    },
    {
      "cell_type": "code",
      "metadata": {
        "id": "1DCjzwn61jDk",
        "colab_type": "code",
        "colab": {}
      },
      "source": [
        ""
      ],
      "execution_count": 0,
      "outputs": []
    },
    {
      "cell_type": "markdown",
      "metadata": {
        "id": "-o7tHiTc6hGm",
        "colab_type": "text"
      },
      "source": [
        "#### Cancer Test Example\n",
        "Let us apply Bayes' Rule to a Cancer Test Example which is a very common example in Statistic classes.\n",
        "Suppose, there is a certain type of cancer which is extremely rare.\n",
        "\n",
        "Let,\n",
        "\\begin{equation}\n",
        "P(C) = 0.001\n",
        "\\end{equation}\n",
        "In other words, $1$ in every $1000$ people has this cancer. Can you compute the probability of not having cancer?\n",
        "\\begin{equation}\n",
        "P(\\neg C) = 0.009\n",
        "\\end{equation}\n",
        "\n",
        "The test for cancer is not $100\\%$ accurate. Let us say, probability of the test being positive given someone has cancer is,\n",
        "\\begin{equation}\n",
        "P(pos | C) = 0.8\n",
        "\\end{equation}\n",
        "Can you compute the probability that the test is negative given someone has cancer?\n",
        "\\begin{equation}\n",
        "P(neg | C) = 0.2\n",
        "\\end{equation}\n",
        "\n",
        "Similarly, the probability of a test being positive given that someone has no cancer is $P(pos | \\neg C) = 0.1$. Can you compute the probability that the test is negative given someone has no cancer?\n",
        "\\begin{equation}\n",
        "P(neg | \\neg C) = 0.9\n",
        "\\end{equation}\n",
        "\n",
        "Can you compute the following?\n",
        "\\begin{equation}\n",
        "P(C | pos) = 0.007\n",
        "\\end{equation}\n",
        "Interpret the quantity you computed in words!\n",
        "\n",
        "What we computed is very interesting. We computed probability of having cancer given the test results and how likely the disease is."
      ]
    },
    {
      "cell_type": "code",
      "metadata": {
        "id": "a66iENTc-XRj",
        "colab_type": "code",
        "colab": {}
      },
      "source": [
        "# Modify the empty list, p, so that it becomes a UNIFORM probability\n",
        "# distribution over n grid cells, as expressed in a list of \n",
        "# n probabilities.\n",
        "def init_distribution(n):\n",
        "    p = []\n",
        "    # Add your code here\n",
        "    p = [ 1/n for i i range(n)]\n",
        "    \n",
        "    # End your code here\n",
        "    return p\n",
        "  \n",
        "  init_distribution(5)"
      ],
      "execution_count": 0,
      "outputs": []
    },
    {
      "cell_type": "code",
      "metadata": {
        "id": "PipfXTuPApYa",
        "colab_type": "code",
        "outputId": "6533d448-9e46-4193-e45c-b9ebbf84646f",
        "colab": {
          "base_uri": "https://localhost:8080/",
          "height": 114
        }
      },
      "source": [
        "#Modify the code below so that the function sense, which \n",
        "#takes p and Z as inputs, will output the normalized \n",
        "#probability distribution, q, after multiplying the entries \n",
        "# in p according to the color in the corresponding cell in world,\n",
        "# followed by normalization of the probability values\n",
        "world=['green', 'red', 'red', 'green', 'green']\n",
        "p = [0.2, 0.2, 0.2, 0.2, 0.2]\n",
        "\n",
        "def sense(p, Z):\n",
        "    q = []\n",
        "    # Add your code here\n",
        "    for P,i in enumerate(world):\n",
        "      if Z == i:\n",
        "        q.append(0.75*p[P])\n",
        "      else:\n",
        "        q.append(0.25*p[P])\n",
        "    q = [i/sum(q) for i in q]\n",
        "    # End your code here\n",
        "    return q\n",
        "            \n",
        "sense(p, 'red')\n",
        "sense(p, 'green')"
      ],
      "execution_count": 0,
      "outputs": [
        {
          "output_type": "execute_result",
          "data": {
            "text/plain": [
              "[0.27272727272727276,\n",
              " 0.09090909090909091,\n",
              " 0.09090909090909091,\n",
              " 0.27272727272727276,\n",
              " 0.27272727272727276]"
            ]
          },
          "metadata": {
            "tags": []
          },
          "execution_count": 6
        }
      ]
    },
    {
      "cell_type": "code",
      "metadata": {
        "id": "QjwNYxQEDnmn",
        "colab_type": "code",
        "outputId": "0556862c-d2c6-4089-adee-cb1266a11e36",
        "colab": {
          "base_uri": "https://localhost:8080/",
          "height": 36
        }
      },
      "source": [
        "#Modify the code so that it updates the probability twice\n",
        "#and gives the posterior distribution after both \n",
        "#measurements are incorporated. Make sure that your code \n",
        "#allows for any sequence of measurement of any length.\n",
        "\n",
        "# DO NOT MODIFY THE SENSE FUNCTION. JUST CALL THE SENSE FUNCTION APPROPRIATELY\n",
        "\n",
        "p=[0.2, 0.2, 0.2, 0.2, 0.2]\n",
        "world=['green', 'red', 'red', 'green', 'green']\n",
        "measurements = ['red', 'green']\n",
        "\n",
        "# Add your code here\n",
        "for i in measurements:\n",
        "  p = sense(p,i)\n",
        "# End your code here\n",
        "print(p)"
      ],
      "execution_count": 0,
      "outputs": [
        {
          "output_type": "stream",
          "text": [
            "[0.19999999999999998, 0.19999999999999998, 0.19999999999999998, 0.19999999999999998, 0.19999999999999998]\n"
          ],
          "name": "stdout"
        }
      ]
    },
    {
      "cell_type": "code",
      "metadata": {
        "id": "UnMBvNVaG6t8",
        "colab_type": "code",
        "outputId": "987f0dcc-2e72-4782-f15d-1aed26fce36b",
        "colab": {
          "base_uri": "https://localhost:8080/",
          "height": 36
        }
      },
      "source": [
        "#Program a function that returns a new distribution \n",
        "#q, shifted to the right by U units. If U=0, q should \n",
        "#be the same as p.\n",
        "\n",
        "def move(p, U):\n",
        "    q = []\n",
        "    # ADD CODE HERE\n",
        "    q = p[-U:] + p[:-U]\n",
        "    # END CODE HERE\n",
        "    return q\n",
        "\n",
        "move([0.11, 0.33, 0.33, 0.11, 0.11], 1)"
      ],
      "execution_count": 0,
      "outputs": [
        {
          "output_type": "execute_result",
          "data": {
            "text/plain": [
              "[0.11, 0.11, 0.33, 0.33, 0.11]"
            ]
          },
          "metadata": {
            "tags": []
          },
          "execution_count": 9
        }
      ]
    },
    {
      "cell_type": "code",
      "metadata": {
        "id": "PMLVXiaMPYRW",
        "colab_type": "code",
        "outputId": "c7daa358-200f-40b7-cff9-7902e9716440",
        "colab": {
          "base_uri": "https://localhost:8080/",
          "height": 36
        }
      },
      "source": [
        "#Modify the move function to accommodate the added \n",
        "#probabilities of overshooting or undershooting \n",
        "#the intended destination.\n",
        "\n",
        "def move(p, U):\n",
        "    q = [ i for i in p]\n",
        "    # ADD CODE HERE\n",
        "    x = q[U] \n",
        "    q[U] = 0\n",
        "    if U+2 < len(p):\n",
        "      q[U+2] = 0.1*x + q[U+2]\n",
        "    elif U+1 < len(p):\n",
        "      q[U+1] =  q[U+1] + 0.1*x \n",
        "\n",
        "    if U+1 < len(p):\n",
        "      q[U+1] = q[U+1] + 0.8*x\n",
        "    else:\n",
        "      q[U] =  x\n",
        "      return q\n",
        "        \n",
        "    if U < len(p):\n",
        "      q[U] = q[U] + 0.1*x\n",
        "    else:\n",
        "      q[U] =  q[U]\n",
        "\n",
        "          \n",
        "    # END CODE HERE\n",
        "    return q\n",
        "\n",
        "move([0, 1.0, 0, 0, 0], 1)"
      ],
      "execution_count": 0,
      "outputs": [
        {
          "output_type": "execute_result",
          "data": {
            "text/plain": [
              "[0, 0.1, 0.8, 0.1, 0]"
            ]
          },
          "metadata": {
            "tags": []
          },
          "execution_count": 23
        }
      ]
    }
  ]
}