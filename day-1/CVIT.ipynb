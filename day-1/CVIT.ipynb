{
  "nbformat": 4,
  "nbformat_minor": 0,
  "metadata": {
    "colab": {
      "name": "CVIT.ipynb",
      "provenance": [],
      "collapsed_sections": []
    },
    "kernelspec": {
      "name": "python3",
      "display_name": "Python 3"
    }
  },
  "cells": [
    {
      "cell_type": "code",
      "metadata": {
        "id": "u5QraEhGmbEy",
        "colab_type": "code",
        "colab": {}
      },
      "source": [
        "import numpy as np"
      ],
      "execution_count": 0,
      "outputs": []
    },
    {
      "cell_type": "code",
      "metadata": {
        "id": "7QnkScX5HZ-f",
        "colab_type": "code",
        "colab": {}
      },
      "source": [
        "def show(a):\n",
        "  print(a)"
      ],
      "execution_count": 0,
      "outputs": []
    },
    {
      "cell_type": "code",
      "metadata": {
        "id": "Pq26Ud1-IDYr",
        "colab_type": "code",
        "outputId": "acc1ff8e-3512-4811-9f72-629f6737b4d2",
        "colab": {
          "base_uri": "https://localhost:8080/",
          "height": 36
        }
      },
      "source": [
        ""
      ],
      "execution_count": 0,
      "outputs": [
        {
          "output_type": "stream",
          "text": [
            "asdas\n"
          ],
          "name": "stdout"
        }
      ]
    },
    {
      "cell_type": "code",
      "metadata": {
        "id": "2yyzviyXI4vw",
        "colab_type": "code",
        "outputId": "c5800805-efd6-4f90-9d7a-cfc9e80c584b",
        "colab": {
          "base_uri": "https://localhost:8080/",
          "height": 36
        }
      },
      "source": [
        "x=[i for i in range(10)]\n",
        "x[::-1]"
      ],
      "execution_count": 0,
      "outputs": [
        {
          "output_type": "execute_result",
          "data": {
            "text/plain": [
              "[9, 8, 7, 6, 5, 4, 3, 2, 1, 0]"
            ]
          },
          "metadata": {
            "tags": []
          },
          "execution_count": 4
        }
      ]
    },
    {
      "cell_type": "code",
      "metadata": {
        "id": "FOQmbl-9jVp-",
        "colab_type": "code",
        "outputId": "968c4725-ca95-482b-dca4-1342b8eafec2",
        "colab": {
          "base_uri": "https://localhost:8080/",
          "height": 191
        }
      },
      "source": [
        "x = dict([(pow(10,r),r) for r in range(10)])\n",
        "x.keys()\n",
        "x.pop(100)\n",
        "l = list(x.items())"
      ],
      "execution_count": 0,
      "outputs": [
        {
          "output_type": "execute_result",
          "data": {
            "text/plain": [
              "[(1, 0),\n",
              " (10, 1),\n",
              " (1000, 3),\n",
              " (10000, 4),\n",
              " (100000, 5),\n",
              " (1000000, 6),\n",
              " (10000000, 7),\n",
              " (100000000, 8),\n",
              " (1000000000, 9)]"
            ]
          },
          "metadata": {
            "tags": []
          },
          "execution_count": 3
        }
      ]
    },
    {
      "cell_type": "code",
      "metadata": {
        "id": "Q6qzQlKhmQqL",
        "colab_type": "code",
        "outputId": "ffa5ab29-1aff-4af9-cc38-5d20ab6dba3d",
        "colab": {
          "base_uri": "https://localhost:8080/",
          "height": 75
        }
      },
      "source": [
        "x = np.random.random((3,3))\n",
        "x\n",
        "u, dv, vh = np.linalg.svd(x)\n",
        "xinv = np.dot(vh.transpose(), np.dot(np.diag(dv**-1), u.transpose()))\n",
        "xinv"
      ],
      "execution_count": 7,
      "outputs": [
        {
          "output_type": "execute_result",
          "data": {
            "text/plain": [
              "array([[-2.91960383, -0.7003404 ,  8.27520539],\n",
              "       [ 4.12388144,  0.04800752, -6.48707772],\n",
              "       [-3.71463002,  1.42097075,  5.20517699]])"
            ]
          },
          "metadata": {
            "tags": []
          },
          "execution_count": 7
        }
      ]
    },
    {
      "cell_type": "code",
      "metadata": {
        "id": "KXe_8HcJk_dk",
        "colab_type": "code",
        "colab": {
          "base_uri": "https://localhost:8080/",
          "height": 265
        },
        "outputId": "a33a3ae4-147d-4474-d15c-7914fb740041"
      },
      "source": [
        "import matplotlib.pyplot as plt\n",
        "X = np.linspace(start=0,stop=10,num=30)\n",
        "Y = np.sin(X)\n",
        "plt.plot(X,Y,label='sine')\n",
        "plt.scatter(X, Y)\n",
        "plt.legend()\n",
        "plt.show()"
      ],
      "execution_count": 13,
      "outputs": [
        {
          "output_type": "display_data",
          "data": {
            "image/png": "[encoded data removed]",
            "text/plain": [
              "<Figure size 432x288 with 1 Axes>"
            ]
          },
          "metadata": {
            "tags": [],
            "needs_background": "light"
          }
        }
      ]
    }
  ]
}